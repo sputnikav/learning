{
 "cells": [
  {
   "cell_type": "markdown",
   "metadata": {},
   "source": [
    "# Mean, Median, Mode, and introducing NumPy"
   ]
  },
  {
   "cell_type": "markdown",
   "metadata": {},
   "source": [
    "## Mean vs. Median"
   ]
  },
  {
   "cell_type": "markdown",
   "metadata": {},
   "source": [
    "Let's create some fake income data, centered around 27,000 with a normal distribution and standard deviation of 15,000, with 10,000 data points. (We'll discuss those terms more later, if you're not familiar with them.)\n",
    "\n",
    "Then, compute the mean (average) - it should be close to 27,000:"
   ]
  },
  {
   "cell_type": "code",
   "execution_count": 2,
   "metadata": {
    "collapsed": false
   },
   "outputs": [
    {
     "data": {
      "text/plain": [
       "27168.84203453291"
      ]
     },
     "execution_count": 2,
     "metadata": {},
     "output_type": "execute_result"
    }
   ],
   "source": [
    "import numpy as np\n",
    "\n",
    "incomes = np.random.normal(27000, 15000, 10000)\n",
    "np.mean(incomes)"
   ]
  },
  {
   "cell_type": "markdown",
   "metadata": {},
   "source": [
    "We can segment the income data into 50 buckets, and plot it as a histogram:"
   ]
  },
  {
   "cell_type": "code",
   "execution_count": 3,
   "metadata": {
    "collapsed": false
   },
   "outputs": [
    {
     "data": {
      "image/png": "[encoded data removed]",
      "text/plain": [
       "<matplotlib.figure.Figure at 0x7fbd4003e290>"
      ]
     },
     "metadata": {},
     "output_type": "display_data"
    }
   ],
   "source": [
    "%matplotlib inline\n",
    "import matplotlib.pyplot as plt\n",
    "plt.hist(incomes, 50)\n",
    "plt.show()"
   ]
  },
  {
   "cell_type": "markdown",
   "metadata": {},
   "source": [
    "Now compute the median - since we have a nice, even distribution it too should be close to 27,000:"
   ]
  },
  {
   "cell_type": "code",
   "execution_count": 4,
   "metadata": {
    "collapsed": false
   },
   "outputs": [
    {
     "data": {
      "text/plain": [
       "27146.205304950447"
      ]
     },
     "execution_count": 4,
     "metadata": {},
     "output_type": "execute_result"
    }
   ],
   "source": [
    "np.median(incomes)"
   ]
  },
  {
   "cell_type": "markdown",
   "metadata": {},
   "source": [
    "Now we'll add Donald Trump into the mix. Darn income inequality!"
   ]
  },
  {
   "cell_type": "code",
   "execution_count": 5,
   "metadata": {
    "collapsed": false
   },
   "outputs": [],
   "source": [
    "incomes = np.append(incomes, [1000000000])"
   ]
  },
  {
   "cell_type": "markdown",
   "metadata": {},
   "source": [
    "The median won't change much, but the mean does:"
   ]
  },
  {
   "cell_type": "code",
   "execution_count": 6,
   "metadata": {
    "collapsed": false
   },
   "outputs": [
    {
     "data": {
      "text/plain": [
       "27146.27960713844"
      ]
     },
     "execution_count": 6,
     "metadata": {},
     "output_type": "execute_result"
    }
   ],
   "source": [
    "np.median(incomes)"
   ]
  },
  {
   "cell_type": "code",
   "execution_count": 7,
   "metadata": {
    "collapsed": false
   },
   "outputs": [
    {
     "data": {
      "text/plain": [
       "127156.12642189075"
      ]
     },
     "execution_count": 7,
     "metadata": {},
     "output_type": "execute_result"
    }
   ],
   "source": [
    "np.mean(incomes)"
   ]
  },
  {
   "cell_type": "markdown",
   "metadata": {},
   "source": [
    "## Mode"
   ]
  },
  {
   "cell_type": "markdown",
   "metadata": {},
   "source": [
    "Next, let's generate some fake age data for 500 people:"
   ]
  },
  {
   "cell_type": "code",
   "execution_count": 11,
   "metadata": {
    "collapsed": false
   },
   "outputs": [
    {
     "data": {
      "text/plain": [
       "array([69, 81, 38, 45, 75, 30, 83, 42, 18, 68, 87, 87, 59, 56, 78, 18, 41,\n",
       "       89, 29, 49, 42, 33, 53, 46, 74, 24, 71, 67, 47, 32, 49, 57, 72, 51,\n",
       "       81, 67, 78, 52, 24, 41, 50, 75, 72, 26, 55, 79, 20, 18, 77, 31, 61,\n",
       "       62, 63, 22, 36, 46, 79, 66, 76, 18, 64, 57, 74, 68, 31, 82, 33, 61,\n",
       "       57, 84, 85, 36, 49, 68, 83, 68, 37, 26, 25, 66, 18, 58, 53, 53, 29,\n",
       "       64, 53, 67, 33, 53, 65, 21, 20, 51, 72, 38, 48, 58, 47, 57, 54, 70,\n",
       "       89, 21, 47, 62, 70, 21, 27, 62, 37, 29, 52, 54, 66, 76, 24, 29, 53,\n",
       "       62, 45, 30, 28, 54, 56, 30, 57, 52, 39, 31, 39, 43, 70, 84, 51, 61,\n",
       "       82, 66, 68, 50, 82, 50, 50, 21, 43, 29, 52, 87, 35, 74, 24, 60, 61,\n",
       "       72, 31, 29, 26, 42, 37, 76, 43, 55, 40, 46, 19, 63, 40, 39, 49, 32,\n",
       "       39, 52, 50, 40, 86, 24, 34, 28, 24, 40, 35, 43, 55, 82, 36, 52, 84,\n",
       "       53, 34, 86, 82, 41, 22, 29, 25, 26, 47, 67, 62, 56, 27, 18, 66, 62,\n",
       "       82, 27, 33, 78, 73, 44, 40, 47, 72, 55, 66, 44, 56, 34, 56, 29, 82,\n",
       "       32, 29, 33, 50, 25, 69, 71, 53, 50, 83, 54, 45, 18, 76, 25, 53, 20,\n",
       "       34, 65, 64, 28, 30, 56, 63, 51, 54, 65, 88, 49, 30, 55, 85, 46, 26,\n",
       "       67, 28, 55, 23, 51, 71, 28, 42, 32, 45, 34, 32, 31, 46, 50, 69, 45,\n",
       "       43, 38, 84, 48, 45, 39, 66, 18, 31, 83, 76, 75, 33, 61, 86, 52, 28,\n",
       "       37, 87, 47, 78, 43, 47, 56, 62, 27, 65, 66, 39, 47, 82, 56, 49, 74,\n",
       "       87, 31, 65, 22, 75, 59, 33, 64, 23, 60, 75, 55, 88, 43, 55, 68, 65,\n",
       "       56, 23, 40, 88, 82, 70, 80, 62, 85, 70, 42, 60, 38, 52, 22, 68, 24,\n",
       "       79, 69, 87, 59, 85, 62, 65, 46, 35, 77, 35, 67, 54, 75, 26, 88, 48,\n",
       "       67, 83, 89, 40, 38, 87, 55, 28, 78, 67, 81, 79, 59, 62, 75, 31, 36,\n",
       "       46, 54, 43, 30, 28, 23, 52, 80, 76, 50, 27, 58, 29, 67, 65, 87, 88,\n",
       "       28, 21, 65, 75, 62, 41, 82, 86, 79, 63, 68, 33, 56, 22, 78, 66, 51,\n",
       "       88, 66, 77, 19, 76, 72, 33, 36, 37, 45, 62, 27, 71, 88, 22, 21, 41,\n",
       "       64, 60, 63, 21, 72, 41, 89, 22, 79, 64, 79, 62, 54, 83, 26, 83, 49,\n",
       "       81, 72, 67, 75, 44, 38, 30, 39, 84, 20, 85, 81, 22, 75, 42, 75, 45,\n",
       "       28, 46, 81, 78, 39, 85, 80, 57, 80, 36, 38, 76, 85, 74, 64, 46, 36,\n",
       "       42, 80, 65, 27, 54, 73, 33, 67, 34, 29, 67, 64, 53, 71, 45, 48, 86,\n",
       "       84, 37, 85, 52, 48, 49, 32])"
      ]
     },
     "execution_count": 11,
     "metadata": {},
     "output_type": "execute_result"
    }
   ],
   "source": [
    "ages = np.random.randint(18, high=90, size=500)\n",
    "ages"
   ]
  },
  {
   "cell_type": "code",
   "execution_count": 12,
   "metadata": {
    "collapsed": false
   },
   "outputs": [
    {
     "data": {
      "text/plain": [
       "ModeResult(mode=array([62]), count=array([13]))"
      ]
     },
     "execution_count": 12,
     "metadata": {},
     "output_type": "execute_result"
    }
   ],
   "source": [
    "from scipy import stats\n",
    "stats.mode(ages)"
   ]
  },
  {
   "cell_type": "code",
   "execution_count": null,
   "metadata": {
    "collapsed": false
   },
   "outputs": [],
   "source": []
  }
 ],
 "metadata": {
  "kernelspec": {
   "display_name": "Python 2",
   "language": "python",
   "name": "python2"
  },
  "language_info": {
   "codemirror_mode": {
    "name": "ipython",
    "version": 2
   },
   "file_extension": ".py",
   "mimetype": "text/x-python",
   "name": "python",
   "nbconvert_exporter": "python",
   "pygments_lexer": "ipython2",
   "version": "2.7.11"
  }
 },
 "nbformat": 4,
 "nbformat_minor": 0
}
