{
 "cells": [
  {
   "cell_type": "markdown",
   "metadata": {},
   "source": [
    "# Naive Bayes (the easy way)"
   ]
  },
  {
   "cell_type": "markdown",
   "metadata": {},
   "source": [
    "We'll cheat by using sklearn.naive_bayes to train a spam classifier! Most of the code is just loading our training data into a pandas DataFrame that we can play with:"
   ]
  },
  {
   "cell_type": "code",
   "execution_count": 16,
   "metadata": {
    "collapsed": false
   },
   "outputs": [],
   "source": [
    "import os\n",
    "import io\n",
    "import numpy \n",
    "from pandas import DataFrame\n",
    "from sklearn.feature_extraction.text import CountVectorizer\n",
    "from sklearn.naive_bayes import MultinomialNB\n",
    "\n",
    "def readFiles(path):\n",
    "    for root, dirnames, filenames in os.walk(path):\n",
    "        for filename in filenames:\n",
    "            path = os.path.join(root, filename)\n",
    "\n",
    "            inBody = False\n",
    "            lines = []\n",
    "            f = io.open(path, 'r', encoding='latin1')\n",
    "            for line in f:\n",
    "                if inBody:\n",
    "                    lines.append(line)\n",
    "                elif line == '\\n':\n",
    "                    inBody = True\n",
    "            f.close()\n",
    "            message = '\\n'.join(lines)\n",
    "            yield path, message\n",
    "\n",
    "\n",
    "def dataFrameFromDirectory(path, classification):\n",
    "    rows = []\n",
    "    index = []\n",
    "    for filename, message in readFiles(path):\n",
    "        rows.append({'message': message, 'class': classification})\n",
    "        index.append(filename)\n",
    "\n",
    "    return DataFrame(rows, index=index)\n",
    "\n",
    "data = DataFrame({'message': [], 'class': []})\n",
    "spam_emails = dataFrameFromDirectory('/home/akai/projects/machine-learning-hands-on-python/DataScience/emails/spam', 'spam')\n",
    "msk = numpy.random.rand(len(spam_emails)) < 0.8\n",
    "training_set = spam_emails[msk]\n",
    "test_set = spam_emails[~msk]\n",
    "data = data.append(training_set)\n",
    "data = data.append(dataFrameFromDirectory('/home/akai/projects/machine-learning-hands-on-python/DataScience/emails/ham', 'ham'))\n"
   ]
  },
  {
   "cell_type": "markdown",
   "metadata": {},
   "source": [
    "Let's have a look at that DataFrame:"
   ]
  },
  {
   "cell_type": "code",
   "execution_count": 23,
   "metadata": {
    "collapsed": false
   },
   "outputs": [
    {
     "name": "stdout",
     "output_type": "stream",
     "text": [
      "/home/akai/projects/machine-learning-hands-on-python/DataScience/emails/spam/00179.2174c80cb3eff623dfc991e51a53eb99    iieo\\n\\n<html>\\n\\n<head>\\n\\n<title>Mortgage co...\n",
      "/home/akai/projects/machine-learning-hands-on-python/DataScience/emails/spam/00075.28a918cd03a0ef5aa2f1e0551a798108    Dear Sir / Madam\\n\\n\\n\\nIf you are fed up of b...\n",
      "/home/akai/projects/machine-learning-hands-on-python/DataScience/emails/spam/00147.1782d51354c31ea53db25ea927d5c51d    <HTML><HEAD><TITLE>Big and big</TITLE>\\n\\n<MET...\n",
      "/home/akai/projects/machine-learning-hands-on-python/DataScience/emails/spam/00057.0a2e17bde9485e999ac2259df38528e2    Lowest rates available for term life insurance...\n",
      "/home/akai/projects/machine-learning-hands-on-python/DataScience/emails/spam/00093.ca4edc32d2ff8e1dbb5f9c0b15ec435b    Get your favorite Poker action at http://www.m...\n",
      "/home/akai/projects/machine-learning-hands-on-python/DataScience/emails/spam/00226.e0e2704cde3bbd561a98042f4a3baf5f    Dear Sir or Madam,\\n\\n\\n\\nMy name is Petr Stan...\n",
      "/home/akai/projects/machine-learning-hands-on-python/DataScience/emails/spam/00029.de865ad8d5ad0df985ae2f72388befba    <html>\\n\\n<head>\\n\\n</head>\\n\\n<body>\\n\\n\\n\\n<...\n",
      "/home/akai/projects/machine-learning-hands-on-python/DataScience/emails/spam/00389.6222f886a2658f890c49f1853beea193    This message is in MIME format. Since your mai...\n",
      "/home/akai/projects/machine-learning-hands-on-python/DataScience/emails/spam/00066.6afbb1258bcf3e4d59d53c847a84e469    <html><head>\\n\\n<title>8 FREE Movie Tickets</t...\n",
      "/home/akai/projects/machine-learning-hands-on-python/DataScience/emails/spam/00450.93d3d59fcdd0f8fda9ef4678535182e8    \\n\\n\\n\\n<HTML>\\n\\n<FONT COLOR =\"#000000\"> <STR...\n",
      "/home/akai/projects/machine-learning-hands-on-python/DataScience/emails/spam/00207.0b71ac81a360455c1514f5872564b1e1    ------=_NextPart_000_0044_5A8512D6.AD3AE071\\n\\...\n",
      "/home/akai/projects/machine-learning-hands-on-python/DataScience/emails/spam/00378.143069173c8ee0047916f124032367d1    <html>\\n\\n\\n\\n<head>\\n\\n<meta http-equiv=3D\"Co...\n",
      "/home/akai/projects/machine-learning-hands-on-python/DataScience/emails/spam/00259.7b838a90b63541213eff9099e1a1aa3c    <HTML><HEAD>\\n\\n<META http-equiv=Content-Type ...\n",
      "/home/akai/projects/machine-learning-hands-on-python/DataScience/emails/spam/00297.3350c2dbbb0272c27b2c7773d7012356    <!DOCTYPE HTML PUBLIC \"-//W3C//DTD HTML 3.2//E...\n",
      "/home/akai/projects/machine-learning-hands-on-python/DataScience/emails/spam/00231.77a5d20da55f185c1bb7a3949332d364     <p>We thank you for just a moment of your tim...\n",
      "/home/akai/projects/machine-learning-hands-on-python/DataScience/emails/spam/00037.21cc985cc36d931916863aed24de8c27    <html>\\n\\n\\n\\n<head>\\n\\n<meta http-equiv=\"Cont...\n",
      "/home/akai/projects/machine-learning-hands-on-python/DataScience/emails/spam/00467.5b733c506b7165424a0d4a298e67970f    This is a multipart MIME message.\\n\\n\\n\\n--= M...\n",
      "/home/akai/projects/machine-learning-hands-on-python/DataScience/emails/spam/00478.6c50ff18ef92c52a3342f1c9f090740b    Here is an excerpt from your local newspaper. ...\n",
      "/home/akai/projects/machine-learning-hands-on-python/DataScience/emails/spam/00273.0c7d73771d79e84e2aab8c909c5bb210    This is a multi-part message in MIME format.\\n...\n",
      "/home/akai/projects/machine-learning-hands-on-python/DataScience/emails/spam/00482.980c7ceb9333bc5027cd8d1d360a8c6f    AFFORDABLE DOMAIN REGISTRATION FOR EVERYONE\\n\\...\n",
      "/home/akai/projects/machine-learning-hands-on-python/DataScience/emails/spam/00304.ed5fbfc3e6f2be662f29f43f172a1fb3    \\n\\n<HTML><TABLE WIDTH=100% BORDER=0 CELLPADDI...\n",
      "/home/akai/projects/machine-learning-hands-on-python/DataScience/emails/spam/00020.29725cf331fc21e18a1809e7d8b27332    1) Fight The Risk of Cancer!\\n\\nhttp://www.adc...\n",
      "/home/akai/projects/machine-learning-hands-on-python/DataScience/emails/spam/00465.ca5d79d0e5dadee322c117789196ebb4    Mr.Vincent Nnaji,\\n\\n Standard Trust Bank Ltd,...\n",
      "/home/akai/projects/machine-learning-hands-on-python/DataScience/emails/spam/00270.5dcd9ce3be2992222b9038d7bf75a23a    Dear Partner to be,\\n\\n\\n\\nFirst, I must apolo...\n",
      "/home/akai/projects/machine-learning-hands-on-python/DataScience/emails/spam/00192.e5a6bb15ae1e965f3b823c75e435651a    This is a multi-part message in MIME format.\\n...\n",
      "/home/akai/projects/machine-learning-hands-on-python/DataScience/emails/spam/00338.a595ffbb6cbcf3a5058293051ebaabf4    This is a multi-part message in MIME format.\\n...\n",
      "/home/akai/projects/machine-learning-hands-on-python/DataScience/emails/spam/00048.8a64080dbd9d868358a22b655fb1b1cd    DON'T MISS OUT ON AN AMAZING BUSINESS OPPORTUN...\n",
      "/home/akai/projects/machine-learning-hands-on-python/DataScience/emails/spam/00074.51aab41b27a9ba7736803318a2e4c8de    ------=_NextPart_000_00C2_37C70C2D.A8844B81\\n\\...\n",
      "/home/akai/projects/machine-learning-hands-on-python/DataScience/emails/spam/00436.4ef1bd17d9202e4229485da7a47afd6c    This is a multi-part message in MIME format.\\n...\n",
      "/home/akai/projects/machine-learning-hands-on-python/DataScience/emails/spam/00214.1367039e50dc6b7adb0f2aa8aba83216    This is a multi-part message in MIME format.\\n...\n",
      "                                                                                                                                             ...                        \n",
      "/home/akai/projects/machine-learning-hands-on-python/DataScience/emails/spam/00021.effe1449462a9d7ad7af0f1c94b1a237    CENTRAL BANK OF NIGERIA\\n\\nFOREIGN REMITTANCE ...\n",
      "/home/akai/projects/machine-learning-hands-on-python/DataScience/emails/spam/00497.ebf699da617b11135f3aa9173b9781b9    <html>\\n\\n<head>\\n\\n<title>Untitled Document</...\n",
      "/home/akai/projects/machine-learning-hands-on-python/DataScience/emails/spam/00342.0dab365fab3be83284b08ac5783335da    Are you interested in making some extra money ...\n",
      "/home/akai/projects/machine-learning-hands-on-python/DataScience/emails/spam/00022.8203cdf03888f656dc0381701148f73d    --===_SecAtt_000_1fheucnqggtggp\\n\\nContent-Typ...\n",
      "/home/akai/projects/machine-learning-hands-on-python/DataScience/emails/spam/00204.a008813ddeb2d5febd1fc676c07e9760    Me and my friends have this brand new idea, a ...\n",
      "/home/akai/projects/machine-learning-hands-on-python/DataScience/emails/spam/00170.33a973aa9bb7d122bdfbd96d44332996    INTEREST RATES HAVE JUST BEEN CUT!!!\\n\\n     \\...\n",
      "/home/akai/projects/machine-learning-hands-on-python/DataScience/emails/spam/00138.c15973a4d40bed4333079296be2522ca     \\n\\n                 Do You Want To Teach and...\n",
      "/home/akai/projects/machine-learning-hands-on-python/DataScience/emails/spam/00385.51089b24dee5a89d38ee1b505b470c68    \\n\\n<html>\\n\\n<body bgcolor=\"#FFFFFF\">\\n\\n<TAB...\n",
      "/home/akai/projects/machine-learning-hands-on-python/DataScience/emails/spam/00241.c28ade5771085a8fddd054a219566b7c    ------=_NextPart_000_00B6_07E34C7A.C3030C43\\n\\...\n",
      "/home/akai/projects/machine-learning-hands-on-python/DataScience/emails/spam/00191.9ff80a41f015b7a6c409732e41c0df07    --374035298.1030784379296.JavaMail.SYSTEM.emas...\n",
      "/home/akai/projects/machine-learning-hands-on-python/DataScience/emails/spam/00426.36b36cbe96efe9001c4d80363ea7ed4e    Opportunity is knocking. Why?\\n\\n\\n\\nBecause m...\n",
      "/home/akai/projects/machine-learning-hands-on-python/DataScience/emails/spam/00187.efd97ab2034b3384606e21db00014ecb    ------=_NextPart_000_00B8_51E06B6A.C8586B31\\n\\...\n",
      "/home/akai/projects/machine-learning-hands-on-python/DataScience/emails/spam/00034.8e582263070076dfe6000411d9b13ce6    As seen on NBC, CBS, CNN, and even Oprah! The ...\n",
      "/home/akai/projects/machine-learning-hands-on-python/DataScience/emails/spam/00447.bd5eb01e94f6d127465bf325513b2516    We guarantee you signups before you ever pay\\n...\n",
      "/home/akai/projects/machine-learning-hands-on-python/DataScience/emails/spam/00232.2d55046b9cf0b192ad6332545ef2a334    This is a multi-part message in MIME format.\\n...\n",
      "/home/akai/projects/machine-learning-hands-on-python/DataScience/emails/spam/00252.7e355e0c5fd1de609684544262435579    This is a multi-part message in MIME format.\\n...\n",
      "/home/akai/projects/machine-learning-hands-on-python/DataScience/emails/spam/00365.da6795d02b44e4d5e168d62718f3e7c9    --------------103237257898946\\n\\nContent-Type:...\n",
      "/home/akai/projects/machine-learning-hands-on-python/DataScience/emails/spam/00249.5f45607c1bffe89f60ba1ec9f878039a    Dear Homeowner,\\n\\n \\n\\nInterest Rates are at ...\n",
      "/home/akai/projects/machine-learning-hands-on-python/DataScience/emails/spam/00457.f8db516c753eff2c82cfb89b33bd2620    <HTML>\\n\\n<HEAD>\\n\\n</HEAD>\\n\\n<BODY>\\n\\nVIAGR...\n",
      "/home/akai/projects/machine-learning-hands-on-python/DataScience/emails/spam/00153.6a5ffe584834ea334041ab958cadcadb    Everybody gets paid.  No recruiting required.\\...\n",
      "/home/akai/projects/machine-learning-hands-on-python/DataScience/emails/spam/00279.1d58a13e343c1e53aca2ed2121a3f815    5, Meridian East\\n\\nLeicester LE3 2WZ \\n\\nLeic...\n",
      "/home/akai/projects/machine-learning-hands-on-python/DataScience/emails/spam/00452.ed43fc952c31c82aa29646edfbecb03f    IMPORTANT DOMAIN INFORMATION:\\n\\n\\n\\n\\n\\nThe n...\n",
      "/home/akai/projects/machine-learning-hands-on-python/DataScience/emails/spam/00476.af3a29817853a5c56bae5257c2d4b742    <html>\\n\\n<head>\\n\\n</head>\\n\\n<center>\\n\\n<h1...\n",
      "/home/akai/projects/machine-learning-hands-on-python/DataScience/emails/spam/00493.1c5f59825f7a246187c137614fb1ea82    <HR>\\n\\n<html>\\n\\n<head>\\n\\n  <title>Secured I...\n",
      "/home/akai/projects/machine-learning-hands-on-python/DataScience/emails/spam/00498.48c3098854d339353f1a28a13b196017    This is an HTML email message.  If you see thi...\n",
      "/home/akai/projects/machine-learning-hands-on-python/DataScience/emails/spam/00400.cc74b7994a7282f32ee2a3b7e3634d31    Our delightful garden ornaments combine the fi...\n",
      "/home/akai/projects/machine-learning-hands-on-python/DataScience/emails/spam/00101.5a24bf3ba3962442179b1a0325a1d1cb    <html>\\n\\n<head>\\n\\n<title>Digital Publishing ...\n",
      "/home/akai/projects/machine-learning-hands-on-python/DataScience/emails/spam/00099.d41a21dc96bb3c3342292f7c9fa4db1e    =================================\\n\\n\\n\\nGuara...\n",
      "/home/akai/projects/machine-learning-hands-on-python/DataScience/emails/spam/00358.2cf55d91739f3530d1f4bc8bc9bc0b12    Get your favorite Poker action at http://www.m...\n",
      "/home/akai/projects/machine-learning-hands-on-python/DataScience/emails/spam/00299.f786faed64bef7134e52fafa17ea861f    ------=_NextPart_000_00A3_00E67D7E.B8560D80\\n\\...\n",
      "Name: message, dtype: object\n"
     ]
    }
   ],
   "source": [
    "data.head()\n",
    "training_set.head()\n",
    "test_set.head()"
   ]
  },
  {
   "cell_type": "markdown",
   "metadata": {},
   "source": [
    "Now we will use a CountVectorizer to split up each message into its list of words, and throw that into a MultinomialNB classifier. Call fit() and we've got a trained spam filter ready to go! It's just that easy."
   ]
  },
  {
   "cell_type": "code",
   "execution_count": 30,
   "metadata": {
    "collapsed": false
   },
   "outputs": [
    {
     "name": "stdout",
     "output_type": "stream",
     "text": [
      "[[0 0 0 ..., 0 0 0]\n",
      " [0 1 0 ..., 0 0 0]\n",
      " [0 0 0 ..., 0 0 0]\n",
      " ..., \n",
      " [0 0 0 ..., 0 0 0]\n",
      " [1 0 0 ..., 0 0 0]\n",
      " [0 0 0 ..., 0 0 0]]\n"
     ]
    },
    {
     "data": {
      "text/plain": [
       "MultinomialNB(alpha=1.0, class_prior=None, fit_prior=True)"
      ]
     },
     "execution_count": 30,
     "metadata": {},
     "output_type": "execute_result"
    }
   ],
   "source": [
    "vectorizer = CountVectorizer()\n",
    "counts = vectorizer.fit_transform(data['message'].values)\n",
    "print counts.toarray()\n",
    "classifier = MultinomialNB()\n",
    "targets = data['class'].values\n",
    "classifier.fit(counts, targets)"
   ]
  },
  {
   "cell_type": "markdown",
   "metadata": {},
   "source": [
    "Let's try it out:"
   ]
  },
  {
   "cell_type": "code",
   "execution_count": 20,
   "metadata": {
    "collapsed": false
   },
   "outputs": [
    {
     "data": {
      "text/plain": [
       "array(['ham', 'ham'], \n",
       "      dtype='|S4')"
      ]
     },
     "execution_count": 20,
     "metadata": {},
     "output_type": "execute_result"
    }
   ],
   "source": [
    "examples = ['Free Viagra now!!!', \"Hi Bob, how about a game of golf tomorrow?\"]\n",
    "example_counts = vectorizer.transform(examples)\n",
    "predictions = classifier.predict(example_counts)\n",
    "predictions"
   ]
  },
  {
   "cell_type": "markdown",
   "metadata": {},
   "source": [
    "## Activity"
   ]
  },
  {
   "cell_type": "markdown",
   "metadata": {},
   "source": [
    "Our data set is small, so our spam classifier isn't actually very good. Try running some different test emails through it and see if you get the results you expect.\n",
    "\n",
    "If you really want to challenge yourself, try applying train/test to this spam classifier - see how well it can predict some subset of the ham and spam emails."
   ]
  },
  {
   "cell_type": "code",
   "execution_count": 24,
   "metadata": {
    "collapsed": false
   },
   "outputs": [
    {
     "data": {
      "text/plain": [
       "array(['spam', 'spam', 'spam', 'spam', 'spam', 'ham', 'spam', 'spam',\n",
       "       'spam', 'spam', 'spam', 'spam', 'spam', 'spam', 'ham', 'spam',\n",
       "       'spam', 'ham', 'spam', 'spam', 'spam', 'spam', 'ham', 'ham', 'spam',\n",
       "       'spam', 'ham', 'spam', 'spam', 'spam', 'spam', 'ham', 'ham', 'ham',\n",
       "       'ham', 'spam', 'spam', 'spam', 'spam', 'spam', 'ham', 'spam',\n",
       "       'spam', 'spam', 'spam', 'spam', 'spam', 'spam', 'ham', 'ham',\n",
       "       'spam', 'ham', 'ham', 'spam', 'spam', 'spam', 'spam', 'spam',\n",
       "       'spam', 'spam', 'spam', 'ham', 'spam', 'spam', 'ham', 'spam', 'ham',\n",
       "       'ham', 'spam', 'spam', 'ham', 'spam', 'spam', 'spam', 'ham', 'spam',\n",
       "       'spam', 'ham', 'spam', 'spam', 'spam', 'spam', 'spam', 'spam',\n",
       "       'ham', 'ham', 'spam', 'spam', 'spam', 'ham', 'spam', 'spam', 'spam',\n",
       "       'spam'], \n",
       "      dtype='|S4')"
      ]
     },
     "execution_count": 24,
     "metadata": {},
     "output_type": "execute_result"
    }
   ],
   "source": [
    "test_counts = vectorizer.transform(test_set.message)\n",
    "predictions = classifier.predict(test_counts)\n",
    "predictions"
   ]
  }
 ],
 "metadata": {
  "kernelspec": {
   "display_name": "Python 2",
   "language": "python",
   "name": "python2"
  },
  "language_info": {
   "codemirror_mode": {
    "name": "ipython",
    "version": 2
   },
   "file_extension": ".py",
   "mimetype": "text/x-python",
   "name": "python",
   "nbconvert_exporter": "python",
   "pygments_lexer": "ipython2",
   "version": "2.7.11"
  }
 },
 "nbformat": 4,
 "nbformat_minor": 0
}
